{
 "cells": [
  {
   "cell_type": "code",
   "execution_count": 1,
   "id": "4f1c1c2b",
   "metadata": {},
   "outputs": [],
   "source": [
    "import numpy as np\n",
    "\n",
    "from sklearn.datasets import make_regression, make_blobs"
   ]
  },
  {
   "cell_type": "code",
   "execution_count": 5,
   "id": "d894f1e6",
   "metadata": {},
   "outputs": [
    {
     "name": "stdout",
     "output_type": "stream",
     "text": [
      "x: (100, 2)\n",
      "y: (100,)\n"
     ]
    }
   ],
   "source": [
    "x, y =make_blobs(centers=2)\n",
    "\n",
    "print(f'x: {x.shape}')\n",
    "print(f'y: {y.shape}')"
   ]
  },
  {
   "cell_type": "code",
   "execution_count": 34,
   "id": "a2b32e4e",
   "metadata": {},
   "outputs": [],
   "source": [
    "x, y = make_regression(n_samples=100, n_features=1)"
   ]
  },
  {
   "cell_type": "code",
   "execution_count": 35,
   "id": "5188c521",
   "metadata": {},
   "outputs": [
    {
     "data": {
      "text/plain": [
       "array([[-9.17817605e-01],\n",
       "       [-2.88770611e-01],\n",
       "       [-8.10165410e-01],\n",
       "       [-1.72694752e+00],\n",
       "       [ 4.06751014e-01],\n",
       "       [-2.78536767e-01],\n",
       "       [-1.25493221e-01],\n",
       "       [-4.44723339e-01],\n",
       "       [-1.10552876e+00],\n",
       "       [ 6.07989439e-01],\n",
       "       [-5.15968802e-01],\n",
       "       [ 1.19236659e+00],\n",
       "       [ 9.25562164e-01],\n",
       "       [-5.74413107e-01],\n",
       "       [ 7.40636154e-01],\n",
       "       [ 1.08887962e-01],\n",
       "       [ 9.48803682e-01],\n",
       "       [-1.83099883e+00],\n",
       "       [ 1.83085732e-01],\n",
       "       [-1.56135394e-01],\n",
       "       [ 1.25038025e+00],\n",
       "       [ 4.65181363e-01],\n",
       "       [-4.99559663e-01],\n",
       "       [ 1.03364649e+00],\n",
       "       [-2.08976214e-01],\n",
       "       [ 1.11856877e+00],\n",
       "       [ 2.09812887e+00],\n",
       "       [ 7.74834857e-01],\n",
       "       [-1.38751764e+00],\n",
       "       [-2.15397958e-01],\n",
       "       [-8.24305489e-01],\n",
       "       [-1.22223267e+00],\n",
       "       [-1.42857891e-01],\n",
       "       [ 3.57257397e-01],\n",
       "       [-6.81354976e-02],\n",
       "       [ 6.77204144e-01],\n",
       "       [-1.75850798e+00],\n",
       "       [ 4.14196156e-01],\n",
       "       [ 9.31381346e-02],\n",
       "       [ 2.94861276e-01],\n",
       "       [ 9.15218933e-01],\n",
       "       [ 4.31869099e-02],\n",
       "       [-6.98338847e-01],\n",
       "       [ 1.42561022e+00],\n",
       "       [-6.14046457e-02],\n",
       "       [-1.10376634e+00],\n",
       "       [ 2.16725156e-01],\n",
       "       [ 1.25336084e+00],\n",
       "       [-2.87251887e-01],\n",
       "       [ 2.11258915e-01],\n",
       "       [ 1.08105131e-01],\n",
       "       [-1.78999046e-01],\n",
       "       [ 1.23856942e+00],\n",
       "       [ 3.03941845e-01],\n",
       "       [ 3.07875463e-01],\n",
       "       [ 5.52984564e-01],\n",
       "       [-9.43883553e-02],\n",
       "       [ 1.53451173e+00],\n",
       "       [ 1.02527699e+00],\n",
       "       [-7.07016211e-02],\n",
       "       [ 5.57812835e-01],\n",
       "       [-3.87086450e-01],\n",
       "       [-9.80127507e-02],\n",
       "       [ 1.06873474e+00],\n",
       "       [-1.65470388e+00],\n",
       "       [-1.84272892e+00],\n",
       "       [ 1.67698332e+00],\n",
       "       [-5.20677641e-01],\n",
       "       [-5.82425857e-01],\n",
       "       [-1.41613120e+00],\n",
       "       [-4.11230298e-01],\n",
       "       [ 1.60220734e-01],\n",
       "       [ 7.74785787e-01],\n",
       "       [-5.23636688e-01],\n",
       "       [ 1.12666769e+00],\n",
       "       [-5.92287778e-01],\n",
       "       [ 1.97546558e-01],\n",
       "       [-1.62450289e+00],\n",
       "       [ 5.28566513e-01],\n",
       "       [-3.85975736e-01],\n",
       "       [ 1.44993013e-01],\n",
       "       [-2.52308284e-01],\n",
       "       [-4.95826465e-01],\n",
       "       [-1.44569188e-03],\n",
       "       [-4.64490684e-01],\n",
       "       [ 4.86713769e-01],\n",
       "       [ 1.04426702e+00],\n",
       "       [-2.85407034e-01],\n",
       "       [ 4.17705893e-01],\n",
       "       [ 4.23584030e-01],\n",
       "       [-2.81385835e-01],\n",
       "       [ 7.65967291e-01],\n",
       "       [ 7.82358302e-01],\n",
       "       [-1.00906769e+00],\n",
       "       [-1.22125855e+00],\n",
       "       [ 3.03732438e-01],\n",
       "       [ 7.10506903e-01],\n",
       "       [-1.28982998e+00],\n",
       "       [ 8.51192032e-01],\n",
       "       [-2.70936573e-01]])"
      ]
     },
     "execution_count": 35,
     "metadata": {},
     "output_type": "execute_result"
    }
   ],
   "source": [
    "x"
   ]
  },
  {
   "cell_type": "code",
   "execution_count": 36,
   "id": "f0344251",
   "metadata": {},
   "outputs": [
    {
     "data": {
      "text/plain": [
       "array([-6.24747337e+01, -1.96562661e+01, -5.51469791e+01, -1.17551228e+02,\n",
       "        2.76870493e+01, -1.89596607e+01, -8.54217167e+00, -3.02717795e+01,\n",
       "       -7.52520052e+01,  4.13851054e+01, -3.51213720e+01,  8.11629510e+01,\n",
       "        6.30018965e+01, -3.90996051e+01,  5.04142068e+01,  7.41187183e+00,\n",
       "        6.45839185e+01, -1.24633875e+02,  1.24624242e+01, -1.06279473e+01,\n",
       "        8.51118705e+01,  3.16643325e+01, -3.40044218e+01,  7.03590658e+01,\n",
       "       -1.42247580e+01,  7.61396227e+01,  1.42817093e+02,  5.27420711e+01,\n",
       "       -9.44466468e+01, -1.46618783e+01, -5.61094772e+01, -8.31958987e+01,\n",
       "       -9.72416376e+00,  2.43180787e+01, -4.63790088e+00,  4.60964666e+01,\n",
       "       -1.19699511e+02,  2.81938311e+01,  6.33980012e+00,  2.00708502e+01,\n",
       "        6.22978453e+01,  2.93968070e+00, -4.75350803e+01,  9.70395628e+01,\n",
       "       -4.17973993e+00, -7.51320393e+01,  1.47522191e+01,  8.53147559e+01,\n",
       "       -1.95528884e+01,  1.43801387e+01,  7.35858543e+00, -1.21842485e+01,\n",
       "        8.43079218e+01,  2.06889536e+01,  2.09567102e+01,  3.76409901e+01,\n",
       "       -6.42490113e+00,  1.04452357e+02,  6.97893640e+01, -4.81257379e+00,\n",
       "        3.79696447e+01, -2.63485062e+01, -6.67160934e+00,  7.27474804e+01,\n",
       "       -1.12633691e+02, -1.25432328e+02,  1.14150225e+02, -3.54418969e+01,\n",
       "       -3.96450233e+01, -9.63943371e+01, -2.79919488e+01,  1.09060315e+01,\n",
       "        5.27387310e+01, -3.56433157e+01,  7.66909063e+01, -4.03163124e+01,\n",
       "        1.34467551e+01, -1.10577946e+02,  3.59788829e+01, -2.62729013e+01,\n",
       "        9.86949894e+00, -1.71743196e+01, -3.37503075e+01, -9.84064967e-02,\n",
       "       -3.16173188e+01,  3.31300173e+01,  7.10819926e+01, -1.94273114e+01,\n",
       "        2.84327347e+01,  2.88328524e+01, -1.91535933e+01,  5.21384667e+01,\n",
       "        5.32541829e+01, -6.86860163e+01, -8.31295916e+01,  2.06746995e+01,\n",
       "        4.83633451e+01, -8.77971658e+01,  5.79396116e+01, -1.84423247e+01])"
      ]
     },
     "execution_count": 36,
     "metadata": {},
     "output_type": "execute_result"
    }
   ],
   "source": [
    "y"
   ]
  },
  {
   "cell_type": "code",
   "execution_count": 8,
   "id": "c4cd6c6f",
   "metadata": {},
   "outputs": [],
   "source": [
    "import torch"
   ]
  },
  {
   "cell_type": "code",
   "execution_count": 14,
   "id": "d0253494",
   "metadata": {},
   "outputs": [],
   "source": [
    "xx = torch.tensor([1.0,2.0], requires_grad=True)\n",
    "yy = 2*xx"
   ]
  },
  {
   "cell_type": "code",
   "execution_count": 15,
   "id": "c18009ab",
   "metadata": {},
   "outputs": [
    {
     "data": {
      "text/plain": [
       "tensor([2., 4.], grad_fn=<MulBackward0>)"
      ]
     },
     "execution_count": 15,
     "metadata": {},
     "output_type": "execute_result"
    }
   ],
   "source": [
    "yy"
   ]
  },
  {
   "cell_type": "code",
   "execution_count": 17,
   "id": "e2c3b7b8",
   "metadata": {},
   "outputs": [],
   "source": [
    "y_true = torch.tensor([4.0, 8.0])"
   ]
  },
  {
   "cell_type": "code",
   "execution_count": 18,
   "id": "65414cbd",
   "metadata": {},
   "outputs": [],
   "source": [
    "l = ((y_true - yy) ** 2).mean()"
   ]
  },
  {
   "cell_type": "code",
   "execution_count": 20,
   "id": "73d87afa",
   "metadata": {},
   "outputs": [],
   "source": [
    "l.backward()"
   ]
  },
  {
   "cell_type": "code",
   "execution_count": 26,
   "id": "3c3a8605",
   "metadata": {},
   "outputs": [
    {
     "name": "stderr",
     "output_type": "stream",
     "text": [
      "/tmp/ipykernel_13184/4065767371.py:1: UserWarning: The .grad attribute of a Tensor that is not a leaf Tensor is being accessed. Its .grad attribute won't be populated during autograd.backward(). If you indeed want the .grad field to be populated for a non-leaf Tensor, use .retain_grad() on the non-leaf Tensor. If you access the non-leaf Tensor by mistake, make sure you access the leaf Tensor instead. See github.com/pytorch/pytorch/pull/30531 for more informations. (Triggered internally at aten/src/ATen/core/TensorBody.h:486.)\n",
      "  yy.grad\n"
     ]
    }
   ],
   "source": [
    "yy.grad"
   ]
  },
  {
   "cell_type": "code",
   "execution_count": 32,
   "id": "7fd82921",
   "metadata": {},
   "outputs": [
    {
     "data": {
      "text/plain": [
       "torch.Size([2, 1])"
      ]
     },
     "execution_count": 32,
     "metadata": {},
     "output_type": "execute_result"
    }
   ],
   "source": [
    "xxx = torch.tensor([[1.0], [2.0]], requires_grad=True)\n",
    "xxx.shape"
   ]
  },
  {
   "cell_type": "code",
   "execution_count": 43,
   "id": "cd19d0c0",
   "metadata": {},
   "outputs": [],
   "source": [
    "n_samples = 100\n",
    "x_np, y_np = make_regression(n_samples=n_samples, n_features=1, noise=10)"
   ]
  },
  {
   "cell_type": "code",
   "execution_count": 44,
   "id": "3bc91d33",
   "metadata": {},
   "outputs": [
    {
     "data": {
      "text/plain": [
       "<matplotlib.collections.PathCollection at 0x7f890c0f4f40>"
      ]
     },
     "execution_count": 44,
     "metadata": {},
     "output_type": "execute_result"
    },
    {
     "data": {
      "image/png": "[encoded data removed]",
      "text/plain": [
       "<Figure size 432x288 with 1 Axes>"
      ]
     },
     "metadata": {
      "needs_background": "light"
     },
     "output_type": "display_data"
    }
   ],
   "source": [
    "import matplotlib.pyplot as plt\n",
    "\n",
    "plt.scatter(x_np, y_np)"
   ]
  },
  {
   "cell_type": "code",
   "execution_count": null,
   "id": "a360c4ce",
   "metadata": {},
   "outputs": [],
   "source": []
  },
  {
   "cell_type": "code",
   "execution_count": 3,
   "id": "d81dcbf6",
   "metadata": {},
   "outputs": [
    {
     "name": "stderr",
     "output_type": "stream",
     "text": [
      "/home/neotod/anaconda3/lib/python3.9/site-packages/pandas/io/parsers/readers.py:910: FutureWarning: elementwise comparison failed; returning scalar instead, but in the future will perform elementwise comparison\n",
      "  if kwds.get(\"header\", \"infer\") == \"infer\":\n"
     ]
    },
    {
     "ename": "TypeError",
     "evalue": "only size-1 arrays can be converted to Python scalars",
     "output_type": "error",
     "traceback": [
      "\u001b[0;31m---------------------------------------------------------------------------\u001b[0m",
      "\u001b[0;31mTypeError\u001b[0m                                 Traceback (most recent call last)",
      "Input \u001b[0;32mIn [3]\u001b[0m, in \u001b[0;36m<cell line: 5>\u001b[0;34m()\u001b[0m\n\u001b[1;32m      1\u001b[0m \u001b[38;5;28;01mimport\u001b[39;00m \u001b[38;5;21;01mpandas\u001b[39;00m \u001b[38;5;28;01mas\u001b[39;00m \u001b[38;5;21;01mpd\u001b[39;00m\n\u001b[1;32m      4\u001b[0m data_path \u001b[38;5;241m=\u001b[39m \u001b[38;5;124m'\u001b[39m\u001b[38;5;124m/home/neotod/compsci/datasets/wine.csv\u001b[39m\u001b[38;5;124m'\u001b[39m\n\u001b[0;32m----> 5\u001b[0m df \u001b[38;5;241m=\u001b[39m \u001b[43mpd\u001b[49m\u001b[38;5;241;43m.\u001b[39;49m\u001b[43mread_csv\u001b[49m\u001b[43m(\u001b[49m\u001b[43mdata_path\u001b[49m\u001b[43m,\u001b[49m\u001b[43m \u001b[49m\u001b[43mheader\u001b[49m\u001b[38;5;241;43m=\u001b[39;49m\u001b[43mnp\u001b[49m\u001b[38;5;241;43m.\u001b[39;49m\u001b[43marange\u001b[49m\u001b[43m(\u001b[49m\u001b[38;5;241;43m0\u001b[39;49m\u001b[43m,\u001b[49m\u001b[43m \u001b[49m\u001b[38;5;241;43m13\u001b[39;49m\u001b[43m)\u001b[49m\u001b[43m)\u001b[49m\n\u001b[1;32m      6\u001b[0m df\n",
      "File \u001b[0;32m~/anaconda3/lib/python3.9/site-packages/pandas/util/_decorators.py:311\u001b[0m, in \u001b[0;36mdeprecate_nonkeyword_arguments.<locals>.decorate.<locals>.wrapper\u001b[0;34m(*args, **kwargs)\u001b[0m\n\u001b[1;32m    305\u001b[0m \u001b[38;5;28;01mif\u001b[39;00m \u001b[38;5;28mlen\u001b[39m(args) \u001b[38;5;241m>\u001b[39m num_allow_args:\n\u001b[1;32m    306\u001b[0m     warnings\u001b[38;5;241m.\u001b[39mwarn(\n\u001b[1;32m    307\u001b[0m         msg\u001b[38;5;241m.\u001b[39mformat(arguments\u001b[38;5;241m=\u001b[39marguments),\n\u001b[1;32m    308\u001b[0m         \u001b[38;5;167;01mFutureWarning\u001b[39;00m,\n\u001b[1;32m    309\u001b[0m         stacklevel\u001b[38;5;241m=\u001b[39mstacklevel,\n\u001b[1;32m    310\u001b[0m     )\n\u001b[0;32m--> 311\u001b[0m \u001b[38;5;28;01mreturn\u001b[39;00m \u001b[43mfunc\u001b[49m\u001b[43m(\u001b[49m\u001b[38;5;241;43m*\u001b[39;49m\u001b[43margs\u001b[49m\u001b[43m,\u001b[49m\u001b[43m \u001b[49m\u001b[38;5;241;43m*\u001b[39;49m\u001b[38;5;241;43m*\u001b[39;49m\u001b[43mkwargs\u001b[49m\u001b[43m)\u001b[49m\n",
      "File \u001b[0;32m~/anaconda3/lib/python3.9/site-packages/pandas/io/parsers/readers.py:680\u001b[0m, in \u001b[0;36mread_csv\u001b[0;34m(filepath_or_buffer, sep, delimiter, header, names, index_col, usecols, squeeze, prefix, mangle_dupe_cols, dtype, engine, converters, true_values, false_values, skipinitialspace, skiprows, skipfooter, nrows, na_values, keep_default_na, na_filter, verbose, skip_blank_lines, parse_dates, infer_datetime_format, keep_date_col, date_parser, dayfirst, cache_dates, iterator, chunksize, compression, thousands, decimal, lineterminator, quotechar, quoting, doublequote, escapechar, comment, encoding, encoding_errors, dialect, error_bad_lines, warn_bad_lines, on_bad_lines, delim_whitespace, low_memory, memory_map, float_precision, storage_options)\u001b[0m\n\u001b[1;32m    665\u001b[0m kwds_defaults \u001b[38;5;241m=\u001b[39m _refine_defaults_read(\n\u001b[1;32m    666\u001b[0m     dialect,\n\u001b[1;32m    667\u001b[0m     delimiter,\n\u001b[0;32m   (...)\u001b[0m\n\u001b[1;32m    676\u001b[0m     defaults\u001b[38;5;241m=\u001b[39m{\u001b[38;5;124m\"\u001b[39m\u001b[38;5;124mdelimiter\u001b[39m\u001b[38;5;124m\"\u001b[39m: \u001b[38;5;124m\"\u001b[39m\u001b[38;5;124m,\u001b[39m\u001b[38;5;124m\"\u001b[39m},\n\u001b[1;32m    677\u001b[0m )\n\u001b[1;32m    678\u001b[0m kwds\u001b[38;5;241m.\u001b[39mupdate(kwds_defaults)\n\u001b[0;32m--> 680\u001b[0m \u001b[38;5;28;01mreturn\u001b[39;00m \u001b[43m_read\u001b[49m\u001b[43m(\u001b[49m\u001b[43mfilepath_or_buffer\u001b[49m\u001b[43m,\u001b[49m\u001b[43m \u001b[49m\u001b[43mkwds\u001b[49m\u001b[43m)\u001b[49m\n",
      "File \u001b[0;32m~/anaconda3/lib/python3.9/site-packages/pandas/io/parsers/readers.py:575\u001b[0m, in \u001b[0;36m_read\u001b[0;34m(filepath_or_buffer, kwds)\u001b[0m\n\u001b[1;32m    572\u001b[0m _validate_names(kwds\u001b[38;5;241m.\u001b[39mget(\u001b[38;5;124m\"\u001b[39m\u001b[38;5;124mnames\u001b[39m\u001b[38;5;124m\"\u001b[39m, \u001b[38;5;28;01mNone\u001b[39;00m))\n\u001b[1;32m    574\u001b[0m \u001b[38;5;66;03m# Create the parser.\u001b[39;00m\n\u001b[0;32m--> 575\u001b[0m parser \u001b[38;5;241m=\u001b[39m \u001b[43mTextFileReader\u001b[49m\u001b[43m(\u001b[49m\u001b[43mfilepath_or_buffer\u001b[49m\u001b[43m,\u001b[49m\u001b[43m \u001b[49m\u001b[38;5;241;43m*\u001b[39;49m\u001b[38;5;241;43m*\u001b[39;49m\u001b[43mkwds\u001b[49m\u001b[43m)\u001b[49m\n\u001b[1;32m    577\u001b[0m \u001b[38;5;28;01mif\u001b[39;00m chunksize \u001b[38;5;129;01mor\u001b[39;00m iterator:\n\u001b[1;32m    578\u001b[0m     \u001b[38;5;28;01mreturn\u001b[39;00m parser\n",
      "File \u001b[0;32m~/anaconda3/lib/python3.9/site-packages/pandas/io/parsers/readers.py:933\u001b[0m, in \u001b[0;36mTextFileReader.__init__\u001b[0;34m(self, f, engine, **kwds)\u001b[0m\n\u001b[1;32m    930\u001b[0m     \u001b[38;5;28mself\u001b[39m\u001b[38;5;241m.\u001b[39moptions[\u001b[38;5;124m\"\u001b[39m\u001b[38;5;124mhas_index_names\u001b[39m\u001b[38;5;124m\"\u001b[39m] \u001b[38;5;241m=\u001b[39m kwds[\u001b[38;5;124m\"\u001b[39m\u001b[38;5;124mhas_index_names\u001b[39m\u001b[38;5;124m\"\u001b[39m]\n\u001b[1;32m    932\u001b[0m \u001b[38;5;28mself\u001b[39m\u001b[38;5;241m.\u001b[39mhandles: IOHandles \u001b[38;5;241m|\u001b[39m \u001b[38;5;28;01mNone\u001b[39;00m \u001b[38;5;241m=\u001b[39m \u001b[38;5;28;01mNone\u001b[39;00m\n\u001b[0;32m--> 933\u001b[0m \u001b[38;5;28mself\u001b[39m\u001b[38;5;241m.\u001b[39m_engine \u001b[38;5;241m=\u001b[39m \u001b[38;5;28;43mself\u001b[39;49m\u001b[38;5;241;43m.\u001b[39;49m\u001b[43m_make_engine\u001b[49m\u001b[43m(\u001b[49m\u001b[43mf\u001b[49m\u001b[43m,\u001b[49m\u001b[43m \u001b[49m\u001b[38;5;28;43mself\u001b[39;49m\u001b[38;5;241;43m.\u001b[39;49m\u001b[43mengine\u001b[49m\u001b[43m)\u001b[49m\n",
      "File \u001b[0;32m~/anaconda3/lib/python3.9/site-packages/pandas/io/parsers/readers.py:1235\u001b[0m, in \u001b[0;36mTextFileReader._make_engine\u001b[0;34m(self, f, engine)\u001b[0m\n\u001b[1;32m   1232\u001b[0m     \u001b[38;5;28;01mraise\u001b[39;00m \u001b[38;5;167;01mValueError\u001b[39;00m(msg)\n\u001b[1;32m   1234\u001b[0m \u001b[38;5;28;01mtry\u001b[39;00m:\n\u001b[0;32m-> 1235\u001b[0m     \u001b[38;5;28;01mreturn\u001b[39;00m \u001b[43mmapping\u001b[49m\u001b[43m[\u001b[49m\u001b[43mengine\u001b[49m\u001b[43m]\u001b[49m\u001b[43m(\u001b[49m\u001b[43mf\u001b[49m\u001b[43m,\u001b[49m\u001b[43m \u001b[49m\u001b[38;5;241;43m*\u001b[39;49m\u001b[38;5;241;43m*\u001b[39;49m\u001b[38;5;28;43mself\u001b[39;49m\u001b[38;5;241;43m.\u001b[39;49m\u001b[43moptions\u001b[49m\u001b[43m)\u001b[49m\n\u001b[1;32m   1236\u001b[0m \u001b[38;5;28;01mexcept\u001b[39;00m \u001b[38;5;167;01mException\u001b[39;00m:\n\u001b[1;32m   1237\u001b[0m     \u001b[38;5;28;01mif\u001b[39;00m \u001b[38;5;28mself\u001b[39m\u001b[38;5;241m.\u001b[39mhandles \u001b[38;5;129;01mis\u001b[39;00m \u001b[38;5;129;01mnot\u001b[39;00m \u001b[38;5;28;01mNone\u001b[39;00m:\n",
      "File \u001b[0;32m~/anaconda3/lib/python3.9/site-packages/pandas/io/parsers/c_parser_wrapper.py:75\u001b[0m, in \u001b[0;36mCParserWrapper.__init__\u001b[0;34m(self, src, **kwds)\u001b[0m\n\u001b[1;32m     72\u001b[0m     kwds\u001b[38;5;241m.\u001b[39mpop(key, \u001b[38;5;28;01mNone\u001b[39;00m)\n\u001b[1;32m     74\u001b[0m kwds[\u001b[38;5;124m\"\u001b[39m\u001b[38;5;124mdtype\u001b[39m\u001b[38;5;124m\"\u001b[39m] \u001b[38;5;241m=\u001b[39m ensure_dtype_objs(kwds\u001b[38;5;241m.\u001b[39mget(\u001b[38;5;124m\"\u001b[39m\u001b[38;5;124mdtype\u001b[39m\u001b[38;5;124m\"\u001b[39m, \u001b[38;5;28;01mNone\u001b[39;00m))\n\u001b[0;32m---> 75\u001b[0m \u001b[38;5;28mself\u001b[39m\u001b[38;5;241m.\u001b[39m_reader \u001b[38;5;241m=\u001b[39m \u001b[43mparsers\u001b[49m\u001b[38;5;241;43m.\u001b[39;49m\u001b[43mTextReader\u001b[49m\u001b[43m(\u001b[49m\u001b[43msrc\u001b[49m\u001b[43m,\u001b[49m\u001b[43m \u001b[49m\u001b[38;5;241;43m*\u001b[39;49m\u001b[38;5;241;43m*\u001b[39;49m\u001b[43mkwds\u001b[49m\u001b[43m)\u001b[49m\n\u001b[1;32m     77\u001b[0m \u001b[38;5;28mself\u001b[39m\u001b[38;5;241m.\u001b[39munnamed_cols \u001b[38;5;241m=\u001b[39m \u001b[38;5;28mself\u001b[39m\u001b[38;5;241m.\u001b[39m_reader\u001b[38;5;241m.\u001b[39munnamed_cols\n\u001b[1;32m     79\u001b[0m \u001b[38;5;66;03m# error: Cannot determine type of 'names'\u001b[39;00m\n",
      "File \u001b[0;32m~/anaconda3/lib/python3.9/site-packages/pandas/_libs/parsers.pyx:537\u001b[0m, in \u001b[0;36mpandas._libs.parsers.TextReader.__cinit__\u001b[0;34m()\u001b[0m\n",
      "\u001b[0;31mTypeError\u001b[0m: only size-1 arrays can be converted to Python scalars"
     ]
    }
   ],
   "source": [
    "import pandas as pd\n",
    "\n",
    "\n",
    "data_path = '/home/neotod/compsci/datasets/wine.csv'\n",
    "df = pd.read_csv(data_path, header=np.arange(0, 13))\n",
    "df"
   ]
  }
 ],
 "metadata": {
  "kernelspec": {
   "display_name": "Python 3 (ipykernel)",
   "language": "python",
   "name": "python3"
  },
  "language_info": {
   "codemirror_mode": {
    "name": "ipython",
    "version": 3
   },
   "file_extension": ".py",
   "mimetype": "text/x-python",
   "name": "python",
   "nbconvert_exporter": "python",
   "pygments_lexer": "ipython3",
   "version": "3.9.12"
  }
 },
 "nbformat": 4,
 "nbformat_minor": 5
}
